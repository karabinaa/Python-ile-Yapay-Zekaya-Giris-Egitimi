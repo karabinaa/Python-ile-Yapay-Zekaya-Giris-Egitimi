{
 "cells": [
  {
   "cell_type": "code",
   "execution_count": null,
   "id": "ec03ce89-7c98-472b-b449-4e6698450bf8",
   "metadata": {},
   "outputs": [],
   "source": [
    "import pandas as pd"
   ]
  },
  {
   "cell_type": "code",
   "execution_count": null,
   "id": "83a1abe5-30ee-4bdd-868c-85b53673d734",
   "metadata": {},
   "outputs": [],
   "source": [
    "#Veri tipleri"
   ]
  },
  {
   "cell_type": "code",
   "execution_count": null,
   "id": "30dbee0a-025d-4daf-bf9b-32705a4e94fa",
   "metadata": {},
   "outputs": [],
   "source": [
    "#series (1-boyutlu)"
   ]
  },
  {
   "cell_type": "code",
   "execution_count": null,
   "id": "c8e09bc2-8365-49f9-8328-0749dd91d58c",
   "metadata": {},
   "outputs": [],
   "source": [
    "carMake = pd.Series([\"BMW\", \"Toyota\", \"Honda\"])\n",
    "carMake"
   ]
  },
  {
   "cell_type": "code",
   "execution_count": null,
   "id": "21f2e370-10ec-44b8-9e6b-96f6d040d3bc",
   "metadata": {},
   "outputs": [],
   "source": [
    "colours = pd.Series([\"Red\", \"Blue\", \"White\"])\n",
    "colours"
   ]
  },
  {
   "cell_type": "code",
   "execution_count": null,
   "id": "db97a19e-4d9c-4c5b-a8c8-bcb36384c77e",
   "metadata": {},
   "outputs": [],
   "source": [
    "#DataFrame (n-boyutlu)"
   ]
  },
  {
   "cell_type": "code",
   "execution_count": null,
   "id": "202844c9-b55b-4123-92e6-0dd036ecf5f5",
   "metadata": {},
   "outputs": [],
   "source": [
    "car_data = pd.DataFrame({\"Car Make\": carMake, \"Colour\": colours})\n",
    "car_data"
   ]
  },
  {
   "cell_type": "code",
   "execution_count": null,
   "id": "b25ac2ce-ea81-4c67-89f1-35a69d22e7b4",
   "metadata": {},
   "outputs": [],
   "source": [
    "#import data"
   ]
  },
  {
   "cell_type": "code",
   "execution_count": null,
   "id": "e27e21c9-d8dc-4a3e-82fa-7e78d25d9b9f",
   "metadata": {},
   "outputs": [],
   "source": [
    "carSales = pd.read_csv(\"car-sales.csv\")\n",
    "carSales"
   ]
  },
  {
   "cell_type": "code",
   "execution_count": null,
   "id": "563d7a1d-3d35-45ef-90eb-93d9c00fb4f7",
   "metadata": {},
   "outputs": [],
   "source": [
    "carSales[\"Colour\"]"
   ]
  },
  {
   "cell_type": "code",
   "execution_count": null,
   "id": "f735ca0d-1b07-4bcf-ba68-9e1d91389fcb",
   "metadata": {},
   "outputs": [],
   "source": [
    "carSales[[\"Make\", \"Colour\", \"Price\"]]"
   ]
  },
  {
   "cell_type": "code",
   "execution_count": null,
   "id": "0007bc21-3a4f-4e8e-b9eb-c75b1f666750",
   "metadata": {},
   "outputs": [],
   "source": [
    "carSales.dtypes"
   ]
  },
  {
   "cell_type": "code",
   "execution_count": null,
   "id": "ae079677-99f2-487c-9ca5-bb9176259935",
   "metadata": {},
   "outputs": [],
   "source": [
    "carSales.columns"
   ]
  },
  {
   "cell_type": "code",
   "execution_count": null,
   "id": "8fbc0997-235b-455e-8a29-48b5ce5f7ef4",
   "metadata": {},
   "outputs": [],
   "source": [
    "carSales.index"
   ]
  },
  {
   "cell_type": "code",
   "execution_count": null,
   "id": "c9971575-300d-4232-8402-7c3932b7f2d0",
   "metadata": {},
   "outputs": [],
   "source": [
    "carSales.describe()"
   ]
  },
  {
   "cell_type": "code",
   "execution_count": null,
   "id": "6d27a973-430f-4181-adc0-8c311adefa07",
   "metadata": {},
   "outputs": [],
   "source": [
    "carSales[\"Odometer (KM)\"].mean()"
   ]
  },
  {
   "cell_type": "code",
   "execution_count": null,
   "id": "074a3b05-4fc2-4f25-b0b2-8ba0c78e4a79",
   "metadata": {},
   "outputs": [],
   "source": [
    "carSales[\"Doors\"].min()"
   ]
  },
  {
   "cell_type": "code",
   "execution_count": null,
   "id": "12779eae-c8ca-4e20-88a3-11d187452840",
   "metadata": {},
   "outputs": [],
   "source": [
    "carSales[\"Odometer (KM)\"].sum()"
   ]
  },
  {
   "cell_type": "code",
   "execution_count": null,
   "id": "44456a6a-95a0-4fde-b1b0-0cd3d61ea6fe",
   "metadata": {},
   "outputs": [],
   "source": [
    "carSales.info()"
   ]
  },
  {
   "cell_type": "code",
   "execution_count": null,
   "id": "93aafbe3-424f-445d-8770-c1eb43ae9ed2",
   "metadata": {},
   "outputs": [],
   "source": [
    "carSales[carSales[\"Make\"]==\"Toyota\"]"
   ]
  },
  {
   "cell_type": "code",
   "execution_count": null,
   "id": "fef18eca-3271-4e62-be5f-8d9b2fad110d",
   "metadata": {},
   "outputs": [],
   "source": [
    "carSales[carSales[\"Make\"]==\"Toyota\"][[\"Colour\", \"Doors\"]]"
   ]
  },
  {
   "cell_type": "code",
   "execution_count": null,
   "id": "94f49704-dd39-4cd7-a6cf-5b0244c68d31",
   "metadata": {},
   "outputs": [],
   "source": [
    "pd.crosstab(carSales[\"Make\"], carSales[\"Doors\"])"
   ]
  },
  {
   "cell_type": "code",
   "execution_count": null,
   "id": "1ed202cc-d685-4c23-bc53-3b815963fb44",
   "metadata": {},
   "outputs": [],
   "source": [
    "gcarSales = carSales.groupby([\"Make\"])\n",
    "gcarSales[\"Doors\"].mean()"
   ]
  },
  {
   "cell_type": "code",
   "execution_count": null,
   "id": "a4e28486-864e-441a-9280-c0984ee5cb47",
   "metadata": {},
   "outputs": [],
   "source": [
    "#export data"
   ]
  },
  {
   "cell_type": "code",
   "execution_count": null,
   "id": "73401d83-f130-4228-a03c-6d1917e8e4e6",
   "metadata": {},
   "outputs": [],
   "source": [
    "fruits = pd.DataFrame({\"Name\":[\"elma\", \"armut\", \"karpuz\", \"muz\"],\"Colour\":[\"Yeşil\",\"Sarı\", \"Kırmızı\", \"Sarı\"]})\n",
    "fruits"
   ]
  },
  {
   "cell_type": "code",
   "execution_count": null,
   "id": "2a8d334f-34f5-41d2-9a9b-8cb53a8379a4",
   "metadata": {},
   "outputs": [],
   "source": [
    "fruits.to_csv(\"my-fruits.csv\")\n"
   ]
  },
  {
   "cell_type": "code",
   "execution_count": null,
   "id": "fe00660b-d99c-4494-bf9a-84723595c3be",
   "metadata": {},
   "outputs": [],
   "source": [
    "# Görselleştirme"
   ]
  },
  {
   "cell_type": "code",
   "execution_count": null,
   "id": "768197c5-c3c5-42ce-887f-f25aac9a15e6",
   "metadata": {},
   "outputs": [],
   "source": [
    "carSales[\"Odometer (KM)\"].plot()"
   ]
  },
  {
   "cell_type": "code",
   "execution_count": null,
   "id": "22107882-224f-4e53-9394-2a4eef9a2210",
   "metadata": {},
   "outputs": [],
   "source": [
    "carSales[\"Odometer (KM)\"].hist()"
   ]
  },
  {
   "cell_type": "code",
   "execution_count": null,
   "id": "d73c2189-cb63-40bf-b79f-5f3ddcb0faa3",
   "metadata": {},
   "outputs": [],
   "source": [
    "# veriyi manipule etme/ düzenleme "
   ]
  },
  {
   "cell_type": "code",
   "execution_count": 83,
   "id": "7aca37a4-10c6-4782-85ad-4aaefcbed40c",
   "metadata": {},
   "outputs": [
    {
     "data": {
      "text/html": [
       "<div>\n",
       "<style scoped>\n",
       "    .dataframe tbody tr th:only-of-type {\n",
       "        vertical-align: middle;\n",
       "    }\n",
       "\n",
       "    .dataframe tbody tr th {\n",
       "        vertical-align: top;\n",
       "    }\n",
       "\n",
       "    .dataframe thead th {\n",
       "        text-align: right;\n",
       "    }\n",
       "</style>\n",
       "<table border=\"1\" class=\"dataframe\">\n",
       "  <thead>\n",
       "    <tr style=\"text-align: right;\">\n",
       "      <th></th>\n",
       "      <th>Name</th>\n",
       "      <th>Colour</th>\n",
       "    </tr>\n",
       "  </thead>\n",
       "  <tbody>\n",
       "    <tr>\n",
       "      <th>0</th>\n",
       "      <td>elma</td>\n",
       "      <td>Yeşil</td>\n",
       "    </tr>\n",
       "    <tr>\n",
       "      <th>1</th>\n",
       "      <td>armut</td>\n",
       "      <td>Sarı</td>\n",
       "    </tr>\n",
       "    <tr>\n",
       "      <th>2</th>\n",
       "      <td>karpuz</td>\n",
       "      <td>Kırmızı</td>\n",
       "    </tr>\n",
       "    <tr>\n",
       "      <th>3</th>\n",
       "      <td>muz</td>\n",
       "      <td>Sarı</td>\n",
       "    </tr>\n",
       "  </tbody>\n",
       "</table>\n",
       "</div>"
      ],
      "text/plain": [
       "     Name   Colour\n",
       "0    elma    Yeşil\n",
       "1   armut     Sarı\n",
       "2  karpuz  Kırmızı\n",
       "3     muz     Sarı"
      ]
     },
     "execution_count": 83,
     "metadata": {},
     "output_type": "execute_result"
    }
   ],
   "source": [
    "fruits"
   ]
  },
  {
   "cell_type": "code",
   "execution_count": 84,
   "id": "f356aa96-c7e2-4b94-9d67-15dd5168d7c0",
   "metadata": {},
   "outputs": [
    {
     "data": {
      "text/plain": [
       "0      Elma\n",
       "1     Armut\n",
       "2    Karpuz\n",
       "3       Muz\n",
       "Name: Name, dtype: object"
      ]
     },
     "execution_count": 84,
     "metadata": {},
     "output_type": "execute_result"
    }
   ],
   "source": [
    "fruits[\"Name\"].str.capitalize()"
   ]
  },
  {
   "cell_type": "code",
   "execution_count": 85,
   "id": "76e8ba88-de1f-419e-bc51-3454655c4f2b",
   "metadata": {},
   "outputs": [
    {
     "data": {
      "text/html": [
       "<div>\n",
       "<style scoped>\n",
       "    .dataframe tbody tr th:only-of-type {\n",
       "        vertical-align: middle;\n",
       "    }\n",
       "\n",
       "    .dataframe tbody tr th {\n",
       "        vertical-align: top;\n",
       "    }\n",
       "\n",
       "    .dataframe thead th {\n",
       "        text-align: right;\n",
       "    }\n",
       "</style>\n",
       "<table border=\"1\" class=\"dataframe\">\n",
       "  <thead>\n",
       "    <tr style=\"text-align: right;\">\n",
       "      <th></th>\n",
       "      <th>Name</th>\n",
       "      <th>Colour</th>\n",
       "    </tr>\n",
       "  </thead>\n",
       "  <tbody>\n",
       "    <tr>\n",
       "      <th>0</th>\n",
       "      <td>elma</td>\n",
       "      <td>Yeşil</td>\n",
       "    </tr>\n",
       "    <tr>\n",
       "      <th>1</th>\n",
       "      <td>armut</td>\n",
       "      <td>Sarı</td>\n",
       "    </tr>\n",
       "    <tr>\n",
       "      <th>2</th>\n",
       "      <td>karpuz</td>\n",
       "      <td>Kırmızı</td>\n",
       "    </tr>\n",
       "    <tr>\n",
       "      <th>3</th>\n",
       "      <td>muz</td>\n",
       "      <td>Sarı</td>\n",
       "    </tr>\n",
       "  </tbody>\n",
       "</table>\n",
       "</div>"
      ],
      "text/plain": [
       "     Name   Colour\n",
       "0    elma    Yeşil\n",
       "1   armut     Sarı\n",
       "2  karpuz  Kırmızı\n",
       "3     muz     Sarı"
      ]
     },
     "execution_count": 85,
     "metadata": {},
     "output_type": "execute_result"
    }
   ],
   "source": [
    "fruits\n"
   ]
  },
  {
   "cell_type": "code",
   "execution_count": 86,
   "id": "e8a2905c-cf57-402b-815b-aabec8e44822",
   "metadata": {},
   "outputs": [],
   "source": [
    "fruits[\"Name\"] = fruits[\"Name\"].str.capitalize()"
   ]
  },
  {
   "cell_type": "code",
   "execution_count": 87,
   "id": "6abe1c43-f17d-496c-a179-a94582994d63",
   "metadata": {},
   "outputs": [
    {
     "data": {
      "text/html": [
       "<div>\n",
       "<style scoped>\n",
       "    .dataframe tbody tr th:only-of-type {\n",
       "        vertical-align: middle;\n",
       "    }\n",
       "\n",
       "    .dataframe tbody tr th {\n",
       "        vertical-align: top;\n",
       "    }\n",
       "\n",
       "    .dataframe thead th {\n",
       "        text-align: right;\n",
       "    }\n",
       "</style>\n",
       "<table border=\"1\" class=\"dataframe\">\n",
       "  <thead>\n",
       "    <tr style=\"text-align: right;\">\n",
       "      <th></th>\n",
       "      <th>Name</th>\n",
       "      <th>Colour</th>\n",
       "    </tr>\n",
       "  </thead>\n",
       "  <tbody>\n",
       "    <tr>\n",
       "      <th>0</th>\n",
       "      <td>Elma</td>\n",
       "      <td>Yeşil</td>\n",
       "    </tr>\n",
       "    <tr>\n",
       "      <th>1</th>\n",
       "      <td>Armut</td>\n",
       "      <td>Sarı</td>\n",
       "    </tr>\n",
       "    <tr>\n",
       "      <th>2</th>\n",
       "      <td>Karpuz</td>\n",
       "      <td>Kırmızı</td>\n",
       "    </tr>\n",
       "    <tr>\n",
       "      <th>3</th>\n",
       "      <td>Muz</td>\n",
       "      <td>Sarı</td>\n",
       "    </tr>\n",
       "  </tbody>\n",
       "</table>\n",
       "</div>"
      ],
      "text/plain": [
       "     Name   Colour\n",
       "0    Elma    Yeşil\n",
       "1   Armut     Sarı\n",
       "2  Karpuz  Kırmızı\n",
       "3     Muz     Sarı"
      ]
     },
     "execution_count": 87,
     "metadata": {},
     "output_type": "execute_result"
    }
   ],
   "source": [
    "fruits"
   ]
  },
  {
   "cell_type": "code",
   "execution_count": null,
   "id": "16546807-4c20-4512-ab96-14fa076c9802",
   "metadata": {},
   "outputs": [],
   "source": [
    "# Sampling"
   ]
  },
  {
   "cell_type": "code",
   "execution_count": 89,
   "id": "f8a013e1-6db9-4db5-bf82-359cfd394ae2",
   "metadata": {},
   "outputs": [
    {
     "data": {
      "text/html": [
       "<div>\n",
       "<style scoped>\n",
       "    .dataframe tbody tr th:only-of-type {\n",
       "        vertical-align: middle;\n",
       "    }\n",
       "\n",
       "    .dataframe tbody tr th {\n",
       "        vertical-align: top;\n",
       "    }\n",
       "\n",
       "    .dataframe thead th {\n",
       "        text-align: right;\n",
       "    }\n",
       "</style>\n",
       "<table border=\"1\" class=\"dataframe\">\n",
       "  <thead>\n",
       "    <tr style=\"text-align: right;\">\n",
       "      <th></th>\n",
       "      <th>Make</th>\n",
       "      <th>Colour</th>\n",
       "      <th>Odometer (KM)</th>\n",
       "      <th>Doors</th>\n",
       "      <th>Price</th>\n",
       "    </tr>\n",
       "  </thead>\n",
       "  <tbody>\n",
       "    <tr>\n",
       "      <th>3</th>\n",
       "      <td>BMW</td>\n",
       "      <td>Black</td>\n",
       "      <td>11179</td>\n",
       "      <td>5</td>\n",
       "      <td>$22,000.00</td>\n",
       "    </tr>\n",
       "    <tr>\n",
       "      <th>5</th>\n",
       "      <td>Toyota</td>\n",
       "      <td>Green</td>\n",
       "      <td>99213</td>\n",
       "      <td>4</td>\n",
       "      <td>$4,500.00</td>\n",
       "    </tr>\n",
       "    <tr>\n",
       "      <th>0</th>\n",
       "      <td>Toyota</td>\n",
       "      <td>White</td>\n",
       "      <td>150043</td>\n",
       "      <td>4</td>\n",
       "      <td>$4,000.00</td>\n",
       "    </tr>\n",
       "  </tbody>\n",
       "</table>\n",
       "</div>"
      ],
      "text/plain": [
       "     Make Colour  Odometer (KM)  Doors       Price\n",
       "3     BMW  Black          11179      5  $22,000.00\n",
       "5  Toyota  Green          99213      4   $4,500.00\n",
       "0  Toyota  White         150043      4   $4,000.00"
      ]
     },
     "execution_count": 89,
     "metadata": {},
     "output_type": "execute_result"
    }
   ],
   "source": [
    "carSales.sample(frac=0.3)"
   ]
  },
  {
   "cell_type": "code",
   "execution_count": null,
   "id": "1b161427-aeb7-4f83-a2b7-1c248e0d2d11",
   "metadata": {},
   "outputs": [],
   "source": []
  }
 ],
 "metadata": {
  "kernelspec": {
   "display_name": "Python 3 (ipykernel)",
   "language": "python",
   "name": "python3"
  },
  "language_info": {
   "codemirror_mode": {
    "name": "ipython",
    "version": 3
   },
   "file_extension": ".py",
   "mimetype": "text/x-python",
   "name": "python",
   "nbconvert_exporter": "python",
   "pygments_lexer": "ipython3",
   "version": "3.11.5"
  }
 },
 "nbformat": 4,
 "nbformat_minor": 5
}
